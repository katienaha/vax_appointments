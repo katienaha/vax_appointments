{
 "cells": [
  {
   "cell_type": "code",
   "execution_count": null,
   "metadata": {},
   "outputs": [],
   "source": [
    "\n",
    "import re\n",
    "import time\n",
    "import os\n",
    "from IPython.display import clear_output\n",
    "from selenium.webdriver.support.ui import Select\n",
    "\n",
    "from selenium import webdriver\n",
    "from selenium.webdriver.support.wait import WebDriverWait\n",
    "from selenium.webdriver.common.by import By\n",
    "from selenium.webdriver.support import expected_conditions as EC\n"
   ]
  },
  {
   "cell_type": "code",
   "execution_count": null,
   "metadata": {},
   "outputs": [],
   "source": [
    "def check_for_waiting_room(browser:\n",
    "    \n",
    "    html_source = browser.page_source\n",
    "\n",
    "    # Check to see if there is a wait\n",
    "    while ('wait time is' in html_source or 'greater than a day' in html_source or \n",
    "           html_source is None):\n",
    "        html_source = browser.page_source\n",
    "        time_remaining = re.findall('wait time is\\n\\s+(\\d+) minute[s]*...', html_source)\n",
    "        print('{}: There are {} minutes remaining'.format(count, time_remaining))\n",
    "        \n",
    "        time.sleep(2)\n",
    "        clear_output(wait=True)\n",
    "        \n",
    "    os.system('say \"Out of waiting room\"')\n",
    "    return html_source"
   ]
  },
  {
   "cell_type": "code",
   "execution_count": null,
   "metadata": {},
   "outputs": [],
   "source": [
    "def check_for_available_appointments(browser, url=None):\n",
    "\n",
    "    avail = None\n",
    "    if url is not None:\n",
    "        browser.get(url)\n",
    "        \n",
    "    html_source = browser.page_source\n",
    "\n",
    "    if 'Clinic does not have any appointment slots available' in html_source:\n",
    "        avail = False\n",
    "    elif 'Please select a time for your appointment' not in html_source:\n",
    "        avail = False\n",
    "    else:\n",
    "        available_times = re.findall(\"([0-9]+)\\s+appointments available\", html_source)\n",
    "        if len(available_times)== 0:\n",
    "            avail = False\n",
    "        else:\n",
    "            print('{} available'.format(len(available_times)))\n",
    "            os.system('say \"Available\"')\n",
    "            avail = True\n",
    "\n",
    "    return avail, html_source\n"
   ]
  },
  {
   "cell_type": "code",
   "execution_count": null,
   "metadata": {},
   "outputs": [],
   "source": [
    "urls = ['https://www.maimmunizations.org/client/registration?clinic_id=1510',\n",
    "        'https://www.maimmunizations.org/client/registration?clinic_id=2483',\n",
    "        'https://www.maimmunizations.org/client/registration?clinic_id=1511',\n",
    "        'https://www.maimmunizations.org/client/registration?clinic_id=2484']"
   ]
  },
  {
   "cell_type": "code",
   "execution_count": null,
   "metadata": {},
   "outputs": [],
   "source": [
    "# Open Chrome\n",
    "browser = webdriver.Chrome('/Users/kathleennahabedian/Downloads/chromedriver')\n",
    "\n",
    "# Enter the waiting room and wait for my turn\n",
    "browser.get('https://www.maimmunizations.org/client/registration?clinic_id=1510')\n",
    "html_source = check_for_waiting_room(browser)"
   ]
  },
  {
   "cell_type": "code",
   "execution_count": null,
   "metadata": {},
   "outputs": [],
   "source": [
    "html_source = browser.page_source\n",
    "do_break = False\n",
    "\n",
    "while True:\n",
    "\n",
    "    # If breaking out of the inner loop, break out of the outer loop (TODO: This is ugly, fix later)\n",
    "    if do_break:\n",
    "        break\n",
    "        \n",
    "    # Check each of the clinics to see if an appointment is available\n",
    "    for url in urls:\n",
    "        avail, html_source = check_for_available_appointments(browser, url)\n",
    "\n",
    "        if avail:\n",
    "            print(html_source)\n",
    "            do_break = True\n",
    "            break\n",
    "        time.sleep(0.25)\n"
   ]
  },
  {
   "cell_type": "markdown",
   "metadata": {},
   "source": [
    "# 1) Select appointment"
   ]
  },
  {
   "cell_type": "code",
   "execution_count": null,
   "metadata": {},
   "outputs": [],
   "source": [
    "html_source = browser.page_source\n",
    "\n",
    "# Split the page into all possible appointments\n",
    "appts = html_source.split(\"consent-form-appointments\")\n",
    "\n",
    "# Loop over each appointment, figuring out which ones have numbers instead of \"No appointments available\"\n",
    "avail_idx = []\n",
    "for idx, appt in enumerate(appts):\n",
    "    times = re.findall(\"([0-9]+)\\s+appointments available\", appt)\n",
    "    if len(times) > 0:\n",
    "        avail_idx.append(idx)\n",
    "        \n",
    "# Choose the last one (others will probably choose the first one? Improves chances of being the first to finish?)\n",
    "appt = appts[avail_idx[-1]]\n",
    "print(appt)\n",
    "\n",
    "# Find the epoch time for this radio button, to identify it later\n",
    "epoch = re.findall(\"value=\\\"([\\d]+)\\\"\", appt)[0]\n",
    "\n",
    "# Click on this radio button\n",
    "browser.find_element_by_xpath(\"//input[@value={}]\".format(epoch)).click()\n",
    "\n",
    "# Click save and continue\n",
    "browser.find_element_by_id(\"submitButton\").click()\n",
    "\n"
   ]
  },
  {
   "cell_type": "markdown",
   "metadata": {},
   "source": [
    "# 2) Attestation"
   ]
  },
  {
   "cell_type": "code",
   "execution_count": null,
   "metadata": {},
   "outputs": [],
   "source": [
    "# Wait for page to load\n",
    "element = WebDriverWait(browser, 15).until(EC.presence_of_element_located((By.ID, \"patient_priority_group\")))\n",
    "\n",
    "# Choose eligibility group\n",
    "selector = browser.find_element_by_xpath(\"//select[@class='form-select w-full']\")\n",
    "Select(selector).select_by_visible_text('Individuals age 65+')\n",
    "\n",
    "# Check that you attest information is true\n",
    "checkbox = browser.find_element_by_xpath(\"//input[@class='form-checkbox cursor-pointer']\")\n",
    "if not checkbox.get_attribute('checked'):\n",
    "    checkbox.click()\n",
    "\n",
    "# Click save and continue\n",
    "browser.find_element_by_id(\"submitButton\").click()"
   ]
  },
  {
   "cell_type": "markdown",
   "metadata": {},
   "source": [
    "# 3) Personal info"
   ]
  },
  {
   "cell_type": "code",
   "execution_count": null,
   "metadata": {},
   "outputs": [],
   "source": [
    "# Wait for page to load\n",
    "element = WebDriverWait(browser, 15).until(EC.presence_of_element_located((By.ID, \"patient_ethnicity\")))\n",
    "\n",
    "# Enter personal info\n",
    "\n",
    "browser.find_element_by_id(\"patient_first_name\").clear()\n",
    "browser.find_element_by_id(\"patient_first_name\").send_keys('Bilbo')\n",
    "\n",
    "browser.find_element_by_id(\"patient_last_name\").clear()\n",
    "browser.find_element_by_id(\"patient_last_name\").send_keys('Baggins')\n",
    "\n",
    "selector = browser.find_element_by_id(\"patient_race\")\n",
    "Select(selector).select_by_visible_text('Asian')\n",
    "\n",
    "selector = browser.find_element_by_id(\"patient_ethnicity\")\n",
    "Select(selector).select_by_visible_text('Not Hispanic or Latino')\n",
    "\n",
    "s = browser.find_element_by_id('patient_date_of_birth_2i')\n",
    "Select(s).select_by_visible_text('January')\n",
    "\n",
    "s = browser.find_element_by_id('patient_date_of_birth_3i')\n",
    "Select(s).select_by_visible_text('1')\n",
    "\n",
    "s = browser.find_element_by_id('patient_date_of_birth_1i')\n",
    "Select(s).select_by_visible_text('1950')\n",
    "\n",
    "s = browser.find_element_by_id('patient_sex')\n",
    "Select(s).select_by_visible_text('Male')\n",
    "\n",
    "browser.find_element_by_id(\"patient_email\").clear()\n",
    "browser.find_element_by_id(\"patient_email_confirmation\").clear()\n",
    "browser.find_element_by_id(\"patient_email\").send_keys('bilbo@gmail.com')\n",
    "browser.find_element_by_id(\"patient_email_confirmation\").send_keys('bilbo@gmail.com')\n",
    "\n",
    "browser.find_element_by_id(\"patient_phone_number\").clear()\n",
    "browser.find_element_by_id(\"patient_address\").clear()\n",
    "browser.find_element_by_id(\"locality\").clear()\n",
    "browser.find_element_by_id(\"patient_phone_number\").send_keys('555-555-5555')\n",
    "browser.find_element_by_id(\"patient_address\").send_keys('123 Fake St')\n",
    "browser.find_element_by_id(\"locality\").send_keys('Wocester')\n",
    "\n",
    "s = browser.find_element_by_id('administrative_area_level_1')\n",
    "Select(s).select_by_visible_text('Massachusetts')\n",
    "\n",
    "browser.find_element_by_id(\"postal_code\").clear()\n",
    "browser.find_element_by_id(\"postal_code\").send_keys('01609')\n",
    "\n",
    "# Click save and continue\n",
    "browser.find_element_by_id(\"submitButton\").click()"
   ]
  },
  {
   "cell_type": "markdown",
   "metadata": {},
   "source": [
    "# 4) Insurance"
   ]
  },
  {
   "cell_type": "code",
   "execution_count": null,
   "metadata": {},
   "outputs": [],
   "source": [
    "# Wait for page to load\n",
    "element = WebDriverWait(browser, 15).until(EC.presence_of_element_located((By.ID, \"patient_insurance_company_name\")))\n",
    "\n",
    "# Insurance type\n",
    "selector = browser.find_element_by_id(\"patient_insurance_type\")\n",
    "Select(selector).select_by_visible_text('Medicare')\n",
    "\n",
    "# Insurance company\n",
    "s = browser.find_element_by_id(\"patient_insurance_company_name\")\n",
    "Select(s).select_by_visible_text('BC/BS OF MASSACHUSETTS')\n",
    "\n",
    "# Member id\n",
    "browser.find_element_by_id(\"patient_member_id_for_insurance\").clear()\n",
    "browser.find_element_by_id(\"patient_member_id_for_insurance\").send_keys('ABCD1234')\n",
    "\n",
    "# First, last name\n",
    "browser.find_element_by_id(\"patient_insured_first_name\").clear()\n",
    "browser.find_element_by_id(\"patient_insured_last_name\").clear()\n",
    "browser.find_element_by_id(\"patient_insured_first_name\").send_keys('Bilbo')\n",
    "browser.find_element_by_id(\"patient_insured_last_name\").send_keys('Baggins')\n",
    "\n",
    "# Birth date\n",
    "s = browser.find_element_by_id('patient_insured_date_of_birth_2i')\n",
    "Select(s).select_by_visible_text('January')\n",
    "\n",
    "s = browser.find_element_by_id('patient_insured_date_of_birth_3i')\n",
    "Select(s).select_by_visible_text('1')\n",
    "\n",
    "s = browser.find_element_by_id('patient_insured_date_of_birth_1i')\n",
    "Select(s).select_by_visible_text('1950')\n",
    "\n",
    "# Policy holder relation\n",
    "s = browser.find_element_by_id('patient_relation_to_patient_for_consent')\n",
    "Select(s).select_by_visible_text('Self')\n",
    "\n",
    "# Click save and continue\n",
    "browser.find_element_by_id(\"submitButton\").click()"
   ]
  },
  {
   "cell_type": "markdown",
   "metadata": {},
   "source": [
    "# 5) Health questions"
   ]
  },
  {
   "cell_type": "code",
   "execution_count": null,
   "metadata": {},
   "outputs": [],
   "source": [
    "# Wait for page to load\n",
    "element = WebDriverWait(browser, 15).until(EC.presence_of_element_located((By.ID, \"7_no\")))\n",
    "\n",
    "# First or second dose?\n",
    "browser.find_element_by_xpath(\"//input[@value='first_time']\").click()\n",
    "\n",
    "# Answer questions from health questionnaire\n",
    "browser.find_element_by_id(\"7_no\").click()\n",
    "browser.find_element_by_id(\"8_no\").click()\n",
    "browser.find_element_by_id(\"9_no\").click()\n",
    "browser.find_element_by_id(\"10_no\").click()\n",
    "browser.find_element_by_id(\"11_no\").click()\n",
    "browser.find_element_by_id(\"12_no\").click()\n",
    "browser.find_element_by_id(\"13_no\").click()\n",
    "browser.find_element_by_id(\"14_no\").click()\n",
    "browser.find_element_by_id(\"15_no\").click()\n",
    "browser.find_element_by_id(\"16_no\").click()\n",
    "browser.find_element_by_id(\"17_no\").click()\n",
    "\n",
    "# Click save and continue\n",
    "browser.find_element_by_id(\"skip_add_family\").click()\n"
   ]
  },
  {
   "cell_type": "markdown",
   "metadata": {},
   "source": [
    "# 6) Signature"
   ]
  },
  {
   "cell_type": "code",
   "execution_count": null,
   "metadata": {},
   "outputs": [],
   "source": [
    "# Wait for page to load\n",
    "element = WebDriverWait(browser, 15).until(EC.presence_of_element_located((By.ID, \"patient_vaccination_ids_30\")))\n",
    "\n",
    "# Select Moderna vaccine (the only option)\n",
    "checkbox = browser.find_element_by_id(\"patient_vaccination_ids_30\")\n",
    "if not checkbox.get_attribute('checked'):\n",
    "    checkbox.click()\n",
    "\n",
    "# Relation to patient\n",
    "s = browser.find_element_by_id('patient_relation_to_patient_for_insurance')\n",
    "Select(s).select_by_visible_text('Self')\n",
    "\n",
    "# Sign name\n",
    "browser.find_element_by_id(\"patient_signer_first_name\").clear()\n",
    "browser.find_element_by_id(\"patient_signer_last_name\").clear()\n",
    "browser.find_element_by_id(\"patient_signer_first_name\").send_keys('Bilbo')\n",
    "browser.find_element_by_id(\"patient_signer_last_name\").send_keys('Baggins')\n",
    "\n",
    "# Click the blue box to sign name by typing\n",
    "browser.find_element_by_xpath(\"//a[@class='text-xs font-bold uppercase px-5 py-3 cursor-pointer shadow-lg rounded block leading-normal bg-white text-blue-600']\").click()\n",
    "\n",
    "# Sign name\n",
    "browser.find_element_by_id(\"patient_signatory_first_name\").clear()\n",
    "browser.find_element_by_id(\"patient_signatory_last_name\").clear()\n",
    "browser.find_element_by_id(\"patient_signatory_first_name\").send_keys('Bilbo')\n",
    "browser.find_element_by_id(\"patient_signatory_last_name\").send_keys('Baggins')\n",
    "\n",
    "\n",
    "# Click save and continue\n",
    "browser.find_element_by_id(\"submitButton\").click()"
   ]
  },
  {
   "cell_type": "markdown",
   "metadata": {},
   "source": [
    "# 8) Review"
   ]
  },
  {
   "cell_type": "code",
   "execution_count": null,
   "metadata": {},
   "outputs": [],
   "source": [
    "\n",
    "# Finalize registration submission\n",
    "# TODO: Uncomment this? Or manually press submit in case things went awry?\n",
    "\n",
    "#browser.find_element_by_id(\"submitButton\").click()\n",
    "#browser.find_element_by_xpath(\"//button[@value='appointment']\").click()\n"
   ]
  },
  {
   "cell_type": "code",
   "execution_count": null,
   "metadata": {
    "scrolled": true
   },
   "outputs": [],
   "source": []
  }
 ],
 "metadata": {
  "kernelspec": {
   "display_name": "Python 3",
   "language": "python",
   "name": "python3"
  },
  "language_info": {
   "codemirror_mode": {
    "name": "ipython",
    "version": 3
   },
   "file_extension": ".py",
   "mimetype": "text/x-python",
   "name": "python",
   "nbconvert_exporter": "python",
   "pygments_lexer": "ipython3",
   "version": "3.8.5"
  }
 },
 "nbformat": 4,
 "nbformat_minor": 4
}
